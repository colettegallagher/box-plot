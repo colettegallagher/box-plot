{
 "cells": [
  {
   "cell_type": "markdown",
   "metadata": {},
   "source": [
    "# Project for Data Analytics - Fundamentals"
   ]
  },
  {
   "cell_type": "markdown",
   "metadata": {},
   "source": [
    "# An Investigation of the Box Plot"
   ]
  },
  {
   "cell_type": "markdown",
   "metadata": {},
   "source": [
    "## Introduction\n",
    "\n",
    "A box plot is used in descriptive statistics as a method of graphically illustrating groups of numerical data through their quartiles.  \n",
    "\n",
    "A **quartile** is a type of quantile.  The first quartile is the middle number which is between the smallest number of the data set and the median (the middle value) of the data set.  This is known as Q1.  The second quartile is the median of the data set.  This is known as Q2.  The third quartile is the middle value between the median and the highest value of the data set.\n",
    "\n",
    "Box plots can also have lines which extend vertically from the boxes.  These lines are known as **whiskers**.  Whiskers are used to indicate the variability which is occuring outside the upper and lower quartiles.\n",
    "\n",
    "This is why the box plot is also known as the **box-and-whisker plot** and the **box-and-whisker diagram**.\n",
    "\n",
    "Box plots are used to display the variation in statistical samples.  The spaces between different parts of the boxes indicates the spread of the data.\n",
    "\n",
    "Box plots can be drawn either vertically or horizontally."
   ]
  },
  {
   "cell_type": "markdown",
   "metadata": {},
   "source": [
    "## History\n",
    "\n",
    "In 1969, mathematician John Tukey introduced the **Box and Whisker Plot**.  He used it as a visual diagram to illustrate the 'Five Number Summary' of any given data set.  \n",
    "\n",
    "A **Five Number Summary** includes the following data:\n",
    "\n",
    " * Minimum - the smallest number\n",
    " * First Quartile - the middle value between the 'minimum' and the 'median'\n",
    " * Median (Second Quartile)\n",
    " * Third Quartile - the middle value between the 'median' and the 'maximum' value\n",
    " * Maximum - the highest value\n",
    " "
   ]
  },
  {
   "cell_type": "code",
   "execution_count": null,
   "metadata": {},
   "outputs": [],
   "source": []
  },
  {
   "cell_type": "code",
   "execution_count": null,
   "metadata": {},
   "outputs": [],
   "source": []
  },
  {
   "cell_type": "code",
   "execution_count": null,
   "metadata": {},
   "outputs": [],
   "source": []
  },
  {
   "cell_type": "code",
   "execution_count": null,
   "metadata": {},
   "outputs": [],
   "source": []
  },
  {
   "cell_type": "code",
   "execution_count": null,
   "metadata": {},
   "outputs": [],
   "source": []
  },
  {
   "cell_type": "code",
   "execution_count": null,
   "metadata": {},
   "outputs": [],
   "source": []
  },
  {
   "cell_type": "code",
   "execution_count": null,
   "metadata": {},
   "outputs": [],
   "source": []
  },
  {
   "cell_type": "code",
   "execution_count": null,
   "metadata": {},
   "outputs": [],
   "source": []
  }
 ],
 "metadata": {
  "kernelspec": {
   "display_name": "Python 3",
   "language": "python",
   "name": "python3"
  },
  "language_info": {
   "codemirror_mode": {
    "name": "ipython",
    "version": 3
   },
   "file_extension": ".py",
   "mimetype": "text/x-python",
   "name": "python",
   "nbconvert_exporter": "python",
   "pygments_lexer": "ipython3",
   "version": "3.6.6"
  }
 },
 "nbformat": 4,
 "nbformat_minor": 2
}
